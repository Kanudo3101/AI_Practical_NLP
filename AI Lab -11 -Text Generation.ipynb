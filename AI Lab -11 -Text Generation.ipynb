{
 "cells": [
  {
   "cell_type": "code",
   "execution_count": null,
   "metadata": {},
   "outputs": [],
   "source": [
    "import pandas as pd\n",
    "import numpy as np\n",
    "from keras.models import Sequential\n",
    "from keras.layers import Dense, LSTM, Embedding\n",
    "from keras.preprocessing.text import Tokenizer\n",
    "from keras.preprocessing.sequence import pad_sequences"
   ]
  },
  {
   "cell_type": "code",
   "execution_count": null,
   "metadata": {},
   "outputs": [],
   "source": [
    "def load_data(file_path):\n",
    "    data = open(file_path, 'r', encoding=\"utf8\").read().lower()\n",
    "    data = data.replace('\\n', ' ')\n",
    "    data = data.split(' ')\n",
    "    data = np.array(data)\n",
    "    data = np.array([char for char in data if char])\n",
    "    return data"
   ]
  },
  {
   "cell_type": "code",
   "execution_count": null,
   "metadata": {},
   "outputs": [],
   "source": [
    "def tokenize_data(data):\n",
    "    tokenizer = Tokenizer()\n",
    "    tokenizer.fit_on_texts(data)\n",
    "    total_words = len(tokenizer.word_index) + 1\n",
    "    return tokenizer, total_words"
   ]
  },
  {
   "cell_type": "code",
   "execution_count": null,
   "metadata": {},
   "outputs": [],
   "source": [
    "def pad_data(data, tokenizer, max_sequence_len):\n",
    "    data = [dt.split(' ')[0] for dt in data.tolist()] #data.split(' ')\n",
    "    # print(data)\n",
    "    data = [tokenizer.word_index[word] for word in data if word in tokenizer.word_index]\n",
    "    return pad_sequences([data], maxlen=max_sequence_len, padding='post')"
   ]
  },
  {
   "cell_type": "code",
   "execution_count": null,
   "metadata": {},
   "outputs": [],
   "source": [
    "def prepare_dataset(data, max_sequence_len):\n",
    "    tokenizer, total_words = tokenize_data(data)\n",
    "    input_data = pad_data(data, tokenizer, max_sequence_len)\n",
    "    target_data = input_data[:,:-1]\n",
    "    target_data = np.expand_dims(target_data, -1)\n",
    "    output_data = input_data[:,1:]\n",
    "    output_data = np.expand_dims(output_data, -1)\n",
    "    return input_data, target_data, output_data, tokenizer, total_words"
   ]
  },
  {
   "cell_type": "code",
   "execution_count": null,
   "metadata": {},
   "outputs": [],
   "source": [
    "def create_model(input_shape, total_words):\n",
    "    model = Sequential()\n",
    "    model.add(Embedding(total_words, 100, input_length=input_shape[1])) #-1\n",
    "    model.add(LSTM(150, return_sequences=True))\n",
    "    model.add(LSTM(100))\n",
    "    model.add(Dense(total_words, activation='softmax'))\n",
    "    model.compile(loss='categorical_crossentropy', optimizer='adam', metrics=['accuracy'])\n",
    "    return model"
   ]
  },
  {
   "cell_type": "code",
   "execution_count": null,
   "metadata": {},
   "outputs": [],
   "source": [
    "def generate_text(seed_text, next_words, model, max_sequence_len):\n",
    "    for _ in range(next_words):\n",
    "        tokenized_text = tokenizer.texts_to_sequences([seed_text])[0]\n",
    "        tokenized_text = pad_sequences([tokenized_text], maxlen=max_sequence_len-1, padding='post')\n",
    "        predicted_probs = model.predict(tokenized_text)[0]\n",
    "        index = np.random.choice(range(len(predicted_probs)), p=predicted_probs)\n",
    "        output_word = \"\"\n",
    "        for word, index in tokenizer.word_index.items():\n",
    "            if index == seed_text:\n",
    "                output_word = word\n",
    "                break\n",
    "        seed_text += \" \" + output_word\n",
    "    return seed_text"
   ]
  },
  {
   "cell_type": "code",
   "execution_count": null,
   "metadata": {},
   "outputs": [],
   "source": [
    "# Parameters\n",
    "file_path = \"./input.txt\"\n",
    "data = load_data(file_path)\n",
    "input_data, target_data, output_data, tokenizer, total_words = prepare_dataset(data, 40)\n",
    "\n",
    "print(\"Input Data: \")\n",
    "print(input_data)\n",
    "\n",
    "print(\"Target Data: \")\n",
    "# print(target_data[0])\n",
    "print(len(target_data[0]))\n",
    "\n",
    "print(\"Output Data: \")\n",
    "# print(output_data[0])\n",
    "print(len(output_data[0]))"
   ]
  },
  {
   "cell_type": "code",
   "execution_count": null,
   "metadata": {},
   "outputs": [],
   "source": [
    "# Create model\n",
    "model = create_model((input_data.shape[0], input_data.shape[1]-1), total_words)\n",
    "print(input_data.shape[0])\n",
    "print(input_data.shape[1])"
   ]
  },
  {
   "cell_type": "code",
   "execution_count": null,
   "metadata": {},
   "outputs": [],
   "source": [
    "# Train model\n",
    "model.fit(target_data, output_data, epochs=100, verbose=1)"
   ]
  },
  {
   "cell_type": "code",
   "execution_count": null,
   "metadata": {},
   "outputs": [],
   "source": [
    "# Generate text\n",
    "seed_text = \"This is a seed sentence\"\n",
    "next_words = 100\n",
    "generated_text = generate_text(seed_text, next_words, model, 40)\n",
    "print(generated_text)"
   ]
  }
 ],
 "metadata": {
  "kernelspec": {
   "display_name": "Python 3",
   "language": "python",
   "name": "python3"
  },
  "language_info": {
   "codemirror_mode": {
    "name": "ipython",
    "version": 3
   },
   "file_extension": ".py",
   "mimetype": "text/x-python",
   "name": "python",
   "nbconvert_exporter": "python",
   "pygments_lexer": "ipython3",
   "version": "3.10.13"
  }
 },
 "nbformat": 4,
 "nbformat_minor": 2
}
